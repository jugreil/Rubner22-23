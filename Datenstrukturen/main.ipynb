{
 "cells": [
  {
   "cell_type": "code",
   "execution_count": null,
   "metadata": {},
   "outputs": [],
   "source": [
    "from EinfachVerketteteListe import EinfachVerketteteListe\n",
    "import random\n",
    "\n",
    "linked_list = EinfachVerketteteListe()\n",
    "count = 100\n",
    "\n",
    "for i in range(count):\n",
    "    linked_list.append(random.randint(0, 100))\n",
    "\n",
    "print(\"Linked list: {0}\".format(linked_list))\n",
    "print(\"Reversed linked list: {0}\".format(reversed(linked_list)))\n",
    "print(\"Sorted linked list: {0}\".format(sorted(linked_list)))\n",
    "print(\"There are duplicates in the {0} elements: {1}\".format(count, len(set(linked_list)) != len(linked_list)))\n",
    "\n",
    "if linked_list.find(1):\n",
    "    linked_list.delete(1)\n",
    "print(\"Updated Linked list: {0}\".format(linked_list))\n",
    "\n",
    "if linked_list.find(2):\n",
    "    linked_list.delete_all(2)\n",
    "print(\"Updated Linked list: {0}\".format(linked_list))\n",
    "\n",
    "linked_list.insert(linked_list[0], 101)\n",
    "print(\"Updated Linked list: {0}\".format(linked_list))\n",
    "\n",
    "linked_list.set_head(4)\n",
    "print(\"Updated Linked list: {0}\".format(linked_list))\n",
    "\n",
    "print(\"Count all '4' in list: {0}\".format(linked_list.count(4)))\n",
    "print(\"Max value from list: {0}\".format(max(linked_list)))\n",
    "print(\"Min value from list: {0}\".format(min(linked_list)))\n",
    "\n",
    "second_list = EinfachVerketteteListe()\n",
    "second_list.append(1)\n",
    "second_list.append(2)\n",
    "linked_list.extends(second_list)\n",
    "print(linked_list)\n",
    "print(linked_list.shuffle())"
   ]
  },
  {
   "cell_type": "code",
   "execution_count": 2,
   "metadata": {},
   "outputs": [
    {
     "ename": "NameError",
     "evalue": "name 'random' is not defined",
     "output_type": "error",
     "traceback": [
      "\u001b[1;31m---------------------------------------------------------------------------\u001b[0m",
      "\u001b[1;31mNameError\u001b[0m                                 Traceback (most recent call last)",
      "Cell \u001b[1;32mIn[2], line 12\u001b[0m\n\u001b[0;32m     10\u001b[0m count \u001b[39m=\u001b[39m \u001b[39m100\u001b[39m\n\u001b[0;32m     11\u001b[0m \u001b[39mfor\u001b[39;00m i \u001b[39min\u001b[39;00m \u001b[39mrange\u001b[39m(count):\n\u001b[1;32m---> 12\u001b[0m     double_linked_list\u001b[39m.\u001b[39madd_tail(random\u001b[39m.\u001b[39mrandint(\u001b[39m0\u001b[39m, \u001b[39m100\u001b[39m))\n\u001b[0;32m     16\u001b[0m \u001b[39mfor\u001b[39;00m node \u001b[39min\u001b[39;00m double_linked_list:\n\u001b[0;32m     17\u001b[0m     \u001b[39mprint\u001b[39m(node)\n",
      "\u001b[1;31mNameError\u001b[0m: name 'random' is not defined"
     ]
    }
   ],
   "source": [
    "from DoppeltVerketteteListe import DoppeltVerketteteListe\n",
    "import random \n",
    "\n",
    "double_linked_list = DoppeltVerketteteListe()\n",
    "\n",
    "double_linked_list.add_head(1)\n",
    "double_linked_list.add_tail(3)\n",
    "double_linked_list.add_head(2)\n",
    "\n",
    "\n",
    "count = 100\n",
    "for i in range(count):\n",
    "    double_linked_list.add_tail(random.randint(0, 100))\n",
    "\n",
    "\n",
    "\n",
    "for node in double_linked_list:\n",
    "    print(node)\n",
    "\n",
    "print()\n",
    "\n",
    "double_linked_list.add_after_node(4, 3)\n",
    "for node in double_linked_list:\n",
    "    print(node)\n",
    "\n",
    "print(\"Tail: \", double_linked_list.tail)\n",
    "print()\n",
    "\n",
    "double_linked_list.delete_node(4)\n",
    "for node in double_linked_list:\n",
    "    print(node)\n",
    "print(\"Tail: \", double_linked_list.tail)\n"
   ]
  },
  {
   "cell_type": "code",
   "execution_count": null,
   "metadata": {},
   "outputs": [],
   "source": [
    "from ArrayList import ArrayList\n",
    "arrayList = ArrayList()\n",
    "arrayList.add(1)\n",
    "arrayList.add(2)\n",
    "arrayList.add(3)\n",
    "arrayList.add(4)\n",
    "arrayList.add(5)\n",
    "arrayList.add(6)\n",
    "arrayList.add(7)\n",
    "arrayList.remove_at_index(0)\n",
    "print(arrayList, len(arrayList))\n",
    "arrayList.remove_at_index(0)\n",
    "print(arrayList, len(arrayList))"
   ]
  }
 ],
 "metadata": {
  "kernelspec": {
   "display_name": "Python 3",
   "language": "python",
   "name": "python3"
  },
  "language_info": {
   "codemirror_mode": {
    "name": "ipython",
    "version": 3
   },
   "file_extension": ".py",
   "mimetype": "text/x-python",
   "name": "python",
   "nbconvert_exporter": "python",
   "pygments_lexer": "ipython3",
   "version": "3.9.1"
  },
  "orig_nbformat": 4
 },
 "nbformat": 4,
 "nbformat_minor": 2
}
